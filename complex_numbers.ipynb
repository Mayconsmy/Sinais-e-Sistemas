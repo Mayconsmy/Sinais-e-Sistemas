{
  "cells": [
    {
      "cell_type": "markdown",
      "id": "e639bd28",
      "metadata": {
        "id": "e639bd28"
      },
      "source": [
        "Primeira Aula: Exercicios sobre numeros complexos resolvidos."
      ]
    },
    {
      "cell_type": "code",
      "execution_count": 4,
      "id": "d05978ea",
      "metadata": {
        "vscode": {
          "languageId": "plaintext"
        },
        "id": "d05978ea"
      },
      "outputs": [],
      "source": [
        "import numpy as np"
      ]
    },
    {
      "cell_type": "code",
      "source": [
        "import numpy as np\n",
        "z1 = 2 + 1j*3\n",
        "r=np.sqrt(np.real(z1)**2 + np.imag(z1)**2)\n",
        "r1=np.abs(r)\n",
        "print(z1)\n",
        "print(r)\n",
        "print(r1)"
      ],
      "metadata": {
        "colab": {
          "base_uri": "https://localhost:8080/"
        },
        "id": "WDidonxLbFhA",
        "outputId": "b477c8a4-35bb-4ab8-8c59-8abda5cdeac7"
      },
      "id": "WDidonxLbFhA",
      "execution_count": 6,
      "outputs": [
        {
          "output_type": "stream",
          "name": "stdout",
          "text": [
            "(2+3j)\n",
            "3.605551275463989\n",
            "3.605551275463989\n"
          ]
        }
      ]
    },
    {
      "cell_type": "markdown",
      "source": [
        "# Magnitude"
      ],
      "metadata": {
        "id": "ZZCvTQXocRR3"
      },
      "id": "ZZCvTQXocRR3"
    },
    {
      "cell_type": "code",
      "source": [
        "t=np.angle(z1)*180/np.pi\n",
        "\n",
        "print(t)\n",
        "\n",
        "z2=-2+1j\n",
        "r=np.abs(r)\n",
        "t=np.angle(z1)*180/np.pi\n",
        "\n",
        "print(r)\n",
        "print(t)"
      ],
      "metadata": {
        "colab": {
          "base_uri": "https://localhost:8080/"
        },
        "id": "q0sA_3j2cPx9",
        "outputId": "c03a3d86-d76c-4c40-b026-32a4023270a8"
      },
      "id": "q0sA_3j2cPx9",
      "execution_count": 8,
      "outputs": [
        {
          "output_type": "stream",
          "name": "stdout",
          "text": [
            "56.309932474020215\n",
            "3.605551275463989\n",
            "56.309932474020215\n"
          ]
        }
      ]
    },
    {
      "cell_type": "markdown",
      "source": [
        "# polar para retangular"
      ],
      "metadata": {
        "id": "2FOFrrtic1nd"
      },
      "id": "2FOFrrtic1nd"
    },
    {
      "cell_type": "code",
      "source": [
        "z5=2*np.exp(1j*np.pi/3)\n",
        "z5"
      ],
      "metadata": {
        "colab": {
          "base_uri": "https://localhost:8080/"
        },
        "id": "dE9NQf-9cvbj",
        "outputId": "5b70679c-e307-426d-aab7-51fd3d46c76b"
      },
      "id": "dE9NQf-9cvbj",
      "execution_count": 10,
      "outputs": [
        {
          "output_type": "execute_result",
          "data": {
            "text/plain": [
              "np.complex128(1.0000000000000002+1.7320508075688772j)"
            ]
          },
          "metadata": {},
          "execution_count": 10
        }
      ]
    },
    {
      "cell_type": "markdown",
      "source": [
        "# Conjugado"
      ],
      "metadata": {
        "id": "DXwqq1dMc_iY"
      },
      "id": "DXwqq1dMc_iY"
    },
    {
      "cell_type": "code",
      "source": [
        "z1=3+1j*4\n",
        "z1conj=3+1j*4*(-1)\n",
        "print(z1conj)"
      ],
      "metadata": {
        "colab": {
          "base_uri": "https://localhost:8080/"
        },
        "id": "SSeGWl7Oc7di",
        "outputId": "a6bfa17a-2009-4b53-890d-27e2e93d488f"
      },
      "id": "SSeGWl7Oc7di",
      "execution_count": 11,
      "outputs": [
        {
          "output_type": "stream",
          "name": "stdout",
          "text": [
            "(3-4j)\n"
          ]
        }
      ]
    }
  ],
  "metadata": {
    "language_info": {
      "name": "python"
    },
    "colab": {
      "provenance": []
    },
    "kernelspec": {
      "name": "python3",
      "display_name": "Python 3"
    }
  },
  "nbformat": 4,
  "nbformat_minor": 5
}