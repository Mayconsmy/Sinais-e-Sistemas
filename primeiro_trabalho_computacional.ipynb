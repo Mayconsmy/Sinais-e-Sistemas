{
  "metadata": {
    "kernelspec": {
      "name": "xpython",
      "display_name": "Python 3.13 (XPython)",
      "language": "python"
    },
    "language_info": {
      "file_extension": ".py",
      "mimetype": "text/x-python",
      "name": "python",
      "version": "3.13.1"
    },
    "colab": {
      "provenance": [],
      "include_colab_link": true
    }
  },
  "nbformat_minor": 5,
  "nbformat": 4,
  "cells": [
    {
      "cell_type": "markdown",
      "metadata": {
        "id": "view-in-github",
        "colab_type": "text"
      },
      "source": [
        "<a href=\"https://colab.research.google.com/github/Mayconsmy/Sinais-e-Sistemas/blob/main/primeiro_trabalho_computacional.ipynb\" target=\"_parent\"><img src=\"https://colab.research.google.com/assets/colab-badge.svg\" alt=\"Open In Colab\"/></a>"
      ]
    },
    {
      "cell_type": "markdown",
      "source": [
        "# Primeiro Trabalho Computacional\n",
        "### PROFESSOR: Pedro Thiago Valério de Souza\n",
        "### DISCIPLINA: Sinais e Sistemas\n",
        "### Letícia Vieira Gonçalves\n",
        "### Maycon Soares Maia"
      ],
      "metadata": {
        "id": "swpGI2gDqM-W"
      },
      "id": "swpGI2gDqM-W"
    },
    {
      "id": "7cba53c9-cc73-4043-b9ab-78ff23cf4841",
      "cell_type": "markdown",
      "source": [
        "1. Considere o sinal de tempo contínuo definido pela seguinte expressão:"
      ],
      "metadata": {
        "id": "7cba53c9-cc73-4043-b9ab-78ff23cf4841"
      }
    },
    {
      "id": "29d68d29-5379-46f1-803a-a8c41f672f08",
      "cell_type": "markdown",
      "source": [
        "$x(t) = (t-1)\\big[u(t-1) - u(t-2)\\big]$\n",
        "\n",
        "\n"
      ],
      "metadata": {
        "id": "29d68d29-5379-46f1-803a-a8c41f672f08"
      }
    },
    {
      "id": "6bc1f7da-6fba-4aea-8553-3e88edcf7af6",
      "cell_type": "markdown",
      "source": [
        "a) Plote o sinal $x(t) $ para $ 0 \\leq t \\leq 3$"
      ],
      "metadata": {
        "id": "6bc1f7da-6fba-4aea-8553-3e88edcf7af6"
      }
    },
    {
      "cell_type": "code",
      "source": [],
      "metadata": {
        "id": "1v283c4hrKhI"
      },
      "id": "1v283c4hrKhI",
      "execution_count": 2,
      "outputs": []
    },
    {
      "id": "040bfb06-92fe-4ef8-8fa8-c0d020cbf74b",
      "cell_type": "markdown",
      "source": [
        "b) Determine, de forma numérica, a energia do sinal $x(t) $. Compare com o resultado do item anterior."
      ],
      "metadata": {
        "id": "040bfb06-92fe-4ef8-8fa8-c0d020cbf74b"
      }
    },
    {
      "id": "12abeb1d-424e-4a2d-af9c-80de485f86f2",
      "cell_type": "code",
      "source": [],
      "metadata": {
        "trusted": true,
        "id": "12abeb1d-424e-4a2d-af9c-80de485f86f2"
      },
      "outputs": [],
      "execution_count": 2
    },
    {
      "id": "66c8e389-8338-4162-a224-833be6a7099f",
      "cell_type": "markdown",
      "source": [
        "2. Considere o sinal $x(t)$ de tempo contínuo dado conforme a Figura 1 da lista."
      ],
      "metadata": {
        "id": "66c8e389-8338-4162-a224-833be6a7099f"
      }
    },
    {
      "id": "8d6c8972-fd1c-44de-b21b-629490dcf6de",
      "cell_type": "markdown",
      "source": [
        "a) Determine de forma analítica, uma expressão matemática para o sinal $x(t)$ para todo $t$ e plote o sinal $x(t)$."
      ],
      "metadata": {
        "id": "8d6c8972-fd1c-44de-b21b-629490dcf6de"
      }
    },
    {
      "id": "0a44d5cd-96ed-4683-8669-00e992f8ffc5",
      "cell_type": "code",
      "source": [],
      "metadata": {
        "trusted": true,
        "id": "0a44d5cd-96ed-4683-8669-00e992f8ffc5"
      },
      "outputs": [],
      "execution_count": 2
    },
    {
      "id": "e2976329-c4da-4b5f-bfe7-57e572c81a89",
      "cell_type": "markdown",
      "source": [
        "**b)** Plote os seguintes sinais:  \n",
        "\n",
        "(i) $x(-t)$  \n",
        "(ii) $x(t+2)$  \n",
        "(iii) $x(t-3)$  \n",
        "(iv) $x(2t)$  \n",
        "(v) $x\\!\\left(\\tfrac{t}{3}\\right)$  "
      ],
      "metadata": {
        "id": "e2976329-c4da-4b5f-bfe7-57e572c81a89"
      }
    },
    {
      "id": "26f04eb5-4416-49b2-bba7-1a112b62f82e",
      "cell_type": "code",
      "source": [],
      "metadata": {
        "trusted": true,
        "id": "26f04eb5-4416-49b2-bba7-1a112b62f82e"
      },
      "outputs": [],
      "execution_count": 2
    },
    {
      "id": "1369f928-a806-416f-a5c0-bad870765de3",
      "cell_type": "markdown",
      "source": [
        "3. Um modulador em amplitude comercial é definido pela seguinte relação de entrada $x(t)$ e saída $y(t):$"
      ],
      "metadata": {
        "id": "1369f928-a806-416f-a5c0-bad870765de3"
      }
    },
    {
      "id": "25e88f7c-2779-4c4b-b622-42567fbabf06",
      "cell_type": "markdown",
      "source": [
        "$y(t) = (A + x(t))\\cos(2\\pi f_c t)$"
      ],
      "metadata": {
        "id": "25e88f7c-2779-4c4b-b622-42567fbabf06"
      }
    },
    {
      "id": "fede84b6-227e-42fd-a076-8c8d75edcca6",
      "cell_type": "markdown",
      "source": [
        "Determine, de forma computacional, a saída para $0 \\leq t \\leq 0,1$ do sistema modulador em amplitude quando a entrada é igual à:"
      ],
      "metadata": {
        "id": "fede84b6-227e-42fd-a076-8c8d75edcca6"
      }
    },
    {
      "id": "65c984ec-f066-4f26-b08d-68cb598a2222",
      "cell_type": "markdown",
      "source": [
        "$x(t) = cos(2\\pi f_m t)$"
      ],
      "metadata": {
        "id": "65c984ec-f066-4f26-b08d-68cb598a2222"
      }
    },
    {
      "id": "8ccff87e-4315-4464-aaaa-834da2684f87",
      "cell_type": "markdown",
      "source": [
        "Sendo $f_m = 50Hz$. Considere $A = 1,5 $ e $ F_c = 500Hz$. Plote a forma de onda do sinal de saída."
      ],
      "metadata": {
        "id": "8ccff87e-4315-4464-aaaa-834da2684f87"
      }
    },
    {
      "id": "16ba7147-bb0c-41d9-a5a7-154b2c345afb",
      "cell_type": "code",
      "source": [],
      "metadata": {
        "trusted": true,
        "id": "16ba7147-bb0c-41d9-a5a7-154b2c345afb"
      },
      "outputs": [],
      "execution_count": 2
    },
    {
      "id": "cd3d8632-20fe-4b36-93de-01a116164c02",
      "cell_type": "markdown",
      "source": [
        "4. Um determinado Sistema linear invariante no tempo possui uma resposta ao impulso $h(t)$ dada por $h(t) = e^{-2t}\\,u(t)$"
      ],
      "metadata": {
        "id": "cd3d8632-20fe-4b36-93de-01a116164c02"
      }
    },
    {
      "id": "2ea22ef2-a3ec-4095-b5a3-d92793545a6a",
      "cell_type": "markdown",
      "source": [
        "a) Plote a resposta ao impulso do sistema para $0 \\leq t \\leq 3$."
      ],
      "metadata": {
        "id": "2ea22ef2-a3ec-4095-b5a3-d92793545a6a"
      }
    },
    {
      "id": "a2150c58-9085-4fa5-b88d-ced28b9285b3",
      "cell_type": "code",
      "source": [],
      "metadata": {
        "trusted": true,
        "id": "a2150c58-9085-4fa5-b88d-ced28b9285b3"
      },
      "outputs": [],
      "execution_count": 2
    },
    {
      "id": "facbef23-3631-48bd-a329-0482966fecdb",
      "cell_type": "markdown",
      "source": [
        "b) Determine, de forma computacional, a resposta do sistema $y(t)$ para $0 \\leq t \\leq 10$"
      ],
      "metadata": {
        "id": "facbef23-3631-48bd-a329-0482966fecdb"
      }
    },
    {
      "id": "6bef5067-8f10-45a0-85d0-e7e7c57802c6",
      "cell_type": "code",
      "source": [],
      "metadata": {
        "trusted": true,
        "id": "6bef5067-8f10-45a0-85d0-e7e7c57802c6"
      },
      "outputs": [],
      "execution_count": 2
    },
    {
      "id": "e2357045-3061-4fd3-ab47-5223ded5ac42",
      "cell_type": "markdown",
      "source": [
        "5. Um determinado circuito elétrico com tensão de entrada $v_i(t)$ e tensão de saída $v_o(t)$ é modelado através da seguinte equação diferencial ordinária:"
      ],
      "metadata": {
        "id": "e2357045-3061-4fd3-ab47-5223ded5ac42"
      }
    },
    {
      "id": "1a87f0ba-63da-4ede-ab74-cf03dcec7317",
      "cell_type": "markdown",
      "source": [
        "$\\frac{d^2v_o(t)}{dt^2} + 7\\frac{dv_o(t)}{dt} + 10v_o(t) = \\frac{dv_i(t)}{dt} + 6v_i(t)$"
      ],
      "metadata": {
        "id": "1a87f0ba-63da-4ede-ab74-cf03dcec7317"
      }
    },
    {
      "id": "cdf27f03-39df-4bbc-bac1-2461a289dc93",
      "cell_type": "markdown",
      "source": [
        "As condições iniciais para esse circuito são $v_o(0) = 6V$ e $\\frac{dv_o(0)}{dt} = -4\\frac{V}{s}$ e a entrada é $x(t) = 6e^{-3t}\\,u(t)$. Ultilizando computação simbólica, determine a expressão de saída para esse circuito."
      ],
      "metadata": {
        "id": "cdf27f03-39df-4bbc-bac1-2461a289dc93"
      }
    },
    {
      "id": "84f992ca-4db6-4905-b704-f36908285131",
      "cell_type": "code",
      "source": [],
      "metadata": {
        "trusted": true,
        "id": "84f992ca-4db6-4905-b704-f36908285131"
      },
      "outputs": [],
      "execution_count": 2
    },
    {
      "id": "ac1f6e8b-ca6a-4f7b-baab-93caf1193428",
      "cell_type": "markdown",
      "source": [
        "6. Um determinado sistema linear, invariante no tempo e causal é descrito pela seguinte equação diferencial:"
      ],
      "metadata": {
        "id": "ac1f6e8b-ca6a-4f7b-baab-93caf1193428"
      }
    },
    {
      "id": "9e24e4e8-6edd-421f-93ed-11d82ab1e818",
      "cell_type": "markdown",
      "source": [
        "$\\frac{d^2y(t)}{dt^2} + 4\\frac{dy(t)}{dt} + 3y(t) = \\frac{dx(t)}{dt} + 5x(t)$"
      ],
      "metadata": {
        "id": "9e24e4e8-6edd-421f-93ed-11d82ab1e818"
      }
    },
    {
      "id": "315fb69d-5456-4e55-bac3-cb795b8453e2",
      "cell_type": "markdown",
      "source": [
        "em que $y(t)$ é a saída e $x(t)$ é a entrada. Ultilizando computação simbólica, determine a resposta ao impulso para esse sistema"
      ],
      "metadata": {
        "id": "315fb69d-5456-4e55-bac3-cb795b8453e2"
      }
    },
    {
      "id": "cfc38ad9-49a6-458f-8313-3cfaf260c57b",
      "cell_type": "code",
      "source": [],
      "metadata": {
        "trusted": true,
        "id": "cfc38ad9-49a6-458f-8313-3cfaf260c57b"
      },
      "outputs": [],
      "execution_count": 2
    }
  ]
}