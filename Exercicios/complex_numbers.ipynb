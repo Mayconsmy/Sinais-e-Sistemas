{
 "cells": [
  {
   "cell_type": "markdown",
   "id": "e639bd28",
   "metadata": {},
   "source": [
    "Primeira Aula: Exercicios sobre numeros complexos resolvidos."
   ]
  },
  {
   "cell_type": "code",
   "execution_count": null,
   "id": "d05978ea",
   "metadata": {
    "vscode": {
     "languageId": "plaintext"
    }
   },
   "outputs": [],
   "source": []
  }
 ],
 "metadata": {
  "language_info": {
   "name": "python"
  }
 },
 "nbformat": 4,
 "nbformat_minor": 5
}
