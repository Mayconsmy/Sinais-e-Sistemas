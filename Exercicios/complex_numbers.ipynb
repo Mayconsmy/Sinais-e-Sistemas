{
  "cells": [
    {
      "cell_type": "markdown",
      "id": "e639bd28",
      "metadata": {
        "id": "e639bd28"
      },
      "source": [
        "# Exercicios sobre numeros complexos resolvidos."
      ]
    },
    {
      "cell_type": "code",
      "execution_count": 4,
      "id": "d05978ea",
      "metadata": {
        "id": "d05978ea",
        "vscode": {
          "languageId": "plaintext"
        }
      },
      "outputs": [],
      "source": [
        "import numpy as np"
      ]
    },
    {
      "cell_type": "code",
      "execution_count": 6,
      "id": "WDidonxLbFhA",
      "metadata": {
        "colab": {
          "base_uri": "https://localhost:8080/"
        },
        "id": "WDidonxLbFhA",
        "outputId": "b477c8a4-35bb-4ab8-8c59-8abda5cdeac7"
      },
      "outputs": [
        {
          "name": "stdout",
          "output_type": "stream",
          "text": [
            "(2+3j)\n",
            "3.605551275463989\n",
            "3.605551275463989\n"
          ]
        }
      ],
      "source": [
        "import numpy as np\n",
        "z1 = 2 + 1j*3\n",
        "r=np.sqrt(np.real(z1)**2 + np.imag(z1)**2)\n",
        "r1=np.abs(r)\n",
        "print(z1)\n",
        "print(r)\n",
        "print(r1)"
      ]
    },
    {
      "cell_type": "markdown",
      "id": "ZZCvTQXocRR3",
      "metadata": {
        "id": "ZZCvTQXocRR3"
      },
      "source": [
        "# Magnitude"
      ]
    },
    {
      "cell_type": "code",
      "execution_count": 8,
      "id": "q0sA_3j2cPx9",
      "metadata": {
        "colab": {
          "base_uri": "https://localhost:8080/"
        },
        "id": "q0sA_3j2cPx9",
        "outputId": "c03a3d86-d76c-4c40-b026-32a4023270a8"
      },
      "outputs": [
        {
          "name": "stdout",
          "output_type": "stream",
          "text": [
            "56.309932474020215\n",
            "3.605551275463989\n",
            "56.309932474020215\n"
          ]
        }
      ],
      "source": [
        "t=np.angle(z1)*180/np.pi\n",
        "\n",
        "print(t)\n",
        "\n",
        "z2=-2+1j\n",
        "r=np.abs(r)\n",
        "t=np.angle(z1)*180/np.pi\n",
        "\n",
        "print(r)\n",
        "print(t)"
      ]
    },
    {
      "cell_type": "markdown",
      "id": "2FOFrrtic1nd",
      "metadata": {
        "id": "2FOFrrtic1nd"
      },
      "source": [
        "# polar para retangular"
      ]
    },
    {
      "cell_type": "code",
      "execution_count": 10,
      "id": "dE9NQf-9cvbj",
      "metadata": {
        "colab": {
          "base_uri": "https://localhost:8080/"
        },
        "id": "dE9NQf-9cvbj",
        "outputId": "5b70679c-e307-426d-aab7-51fd3d46c76b"
      },
      "outputs": [
        {
          "data": {
            "text/plain": [
              "np.complex128(1.0000000000000002+1.7320508075688772j)"
            ]
          },
          "execution_count": 10,
          "metadata": {},
          "output_type": "execute_result"
        }
      ],
      "source": [
        "z5=2*np.exp(1j*np.pi/3)\n",
        "z5"
      ]
    },
    {
      "cell_type": "markdown",
      "id": "DXwqq1dMc_iY",
      "metadata": {
        "id": "DXwqq1dMc_iY"
      },
      "source": [
        "# Conjugado"
      ]
    },
    {
      "cell_type": "code",
      "execution_count": 11,
      "id": "SSeGWl7Oc7di",
      "metadata": {
        "colab": {
          "base_uri": "https://localhost:8080/"
        },
        "id": "SSeGWl7Oc7di",
        "outputId": "a6bfa17a-2009-4b53-890d-27e2e93d488f"
      },
      "outputs": [
        {
          "name": "stdout",
          "output_type": "stream",
          "text": [
            "(3-4j)\n"
          ]
        }
      ],
      "source": [
        "z1=3+1j*4\n",
        "z1conj=3+1j*4*(-1)\n",
        "print(z1conj)"
      ]
    }
  ],
  "metadata": {
    "colab": {
      "provenance": []
    },
    "kernelspec": {
      "display_name": "Python 3",
      "name": "python3"
    },
    "language_info": {
      "name": "python"
    }
  },
  "nbformat": 4,
  "nbformat_minor": 5
}
